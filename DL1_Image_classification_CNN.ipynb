{
  "nbformat": 4,
  "nbformat_minor": 0,
  "metadata": {
    "colab": {
      "name": "Image_classification_CNN.ipynb",
      "version": "0.3.2",
      "provenance": []
    },
    "language_info": {
      "codemirror_mode": {
        "name": "ipython",
        "version": 3
      },
      "file_extension": ".py",
      "mimetype": "text/x-python",
      "name": "python",
      "nbconvert_exporter": "python",
      "pygments_lexer": "ipython3",
      "version": "3.6.8"
    },
    "kernelspec": {
      "display_name": "mar28",
      "language": "python",
      "name": "mar28"
    }
  },
  "cells": [
    {
      "cell_type": "code",
      "metadata": {
        "colab_type": "code",
        "id": "bv8L2UKaffbp",
        "outputId": "677c49fc-eb40-44d1-e14f-9570f58cfad2",
        "colab": {
          "base_uri": "https://localhost:8080/",
          "height": 35
        }
      },
      "source": [
        "from urllib.request import urlretrieve\n",
        "from os.path import isfile, isdir\n",
        "from tqdm import tqdm\n",
        "import tarfile\n",
        "\n",
        "cifar10_dataset_folder_path = 'cifar-10-batches-py'\n",
        "\n",
        "class DLProgress(tqdm):\n",
        "    last_block = 0\n",
        "\n",
        "    def hook(self, block_num=1, block_size=1, total_size=None):\n",
        "        self.total = total_size\n",
        "        self.update((block_num - self.last_block) * block_size)\n",
        "        self.last_block = block_num\n",
        "\n",
        "if not isfile('cifar-10-python.tar.gz'):\n",
        "    with DLProgress(unit='B', unit_scale=True, miniters=1, desc='CIFAR-10 Dataset') as pbar:\n",
        "        urlretrieve(\n",
        "            'https://www.cs.toronto.edu/~kriz/cifar-10-python.tar.gz',\n",
        "            'cifar-10-python.tar.gz',\n",
        "            pbar.hook)\n",
        "\n",
        "if not isdir(cifar10_dataset_folder_path):\n",
        "    with tarfile.open('cifar-10-python.tar.gz') as tar:\n",
        "        tar.extractall()\n",
        "        tar.close()\n"
      ],
      "execution_count": 1,
      "outputs": [
        {
          "output_type": "stream",
          "text": [
            "CIFAR-10 Dataset: 171MB [00:09, 18.0MB/s]                           \n"
          ],
          "name": "stderr"
        }
      ]
    },
    {
      "cell_type": "markdown",
      "metadata": {
        "colab_type": "text",
        "id": "_hG8kXGLffb8"
      },
      "source": [
        "## The following are some helper functions "
      ]
    },
    {
      "cell_type": "code",
      "metadata": {
        "colab_type": "code",
        "id": "lftVmXGeffb-",
        "colab": {}
      },
      "source": [
        "import pickle\n",
        "import numpy as np\n",
        "import matplotlib.pyplot as plt\n",
        "from sklearn.preprocessing import LabelBinarizer\n",
        "\n",
        "\n",
        "def _load_label_names():\n",
        "    \"\"\"\n",
        "    Load the label names from file\n",
        "    \"\"\"\n",
        "    return ['airplane', 'automobile', 'bird', 'cat', 'deer', 'dog', 'frog', 'horse', 'ship', 'truck']\n",
        "\n",
        "\n",
        "def load_cfar10_batch(cifar10_dataset_folder_path, batch_id):\n",
        "    \"\"\"\n",
        "    Load a batch of the dataset\n",
        "    \"\"\"\n",
        "    with open(cifar10_dataset_folder_path + '/data_batch_' + str(batch_id), mode='rb') as file:\n",
        "        batch = pickle.load(file, encoding='latin1')\n",
        "\n",
        "    features = batch['data'].reshape((len(batch['data']), 3, 32, 32)).transpose(0, 2, 3, 1)\n",
        "    labels = batch['labels']\n",
        "\n",
        "    return features, labels\n",
        "\n",
        "\n",
        "def display_stats(cifar10_dataset_folder_path, batch_id, sample_id):\n",
        "    \"\"\"\n",
        "    Display Stats of the the dataset\n",
        "    \"\"\"\n",
        "    batch_ids = list(range(1, 6))\n",
        "\n",
        "    if batch_id not in batch_ids:\n",
        "        print('Batch Id out of Range. Possible Batch Ids: {}'.format(batch_ids))\n",
        "        return None\n",
        "\n",
        "    features, labels = load_cfar10_batch(cifar10_dataset_folder_path, batch_id)\n",
        "\n",
        "    if not (0 <= sample_id < len(features)):\n",
        "        print('{} samples in batch {}.  {} is out of range.'.format(len(features), batch_id, sample_id))\n",
        "        return None\n",
        "\n",
        "    print('\\nStats of batch {}:'.format(batch_id))\n",
        "    print('Samples: {}'.format(len(features)))\n",
        "    print('Label Counts: {}'.format(dict(zip(*np.unique(labels, return_counts=True)))))\n",
        "    print('First 20 Labels: {}'.format(labels[:20]))\n",
        "\n",
        "    sample_image = features[sample_id]\n",
        "    sample_label = labels[sample_id]\n",
        "    label_names = _load_label_names()\n",
        "\n",
        "    print('\\nExample of Image {}:'.format(sample_id))\n",
        "    print('Image - Min Value: {} Max Value: {}'.format(sample_image.min(), sample_image.max()))\n",
        "    print('Image - Shape: {}'.format(sample_image.shape))\n",
        "    print('Label - Label Id: {} Name: {}'.format(sample_label, label_names[sample_label]))\n",
        "    plt.axis('off')\n",
        "    plt.imshow(sample_image)\n",
        "\n",
        "\n",
        "def _preprocess_and_save(normalize, one_hot_encode, features, labels, filename):\n",
        "    \"\"\"\n",
        "    Preprocess data and save it to file\n",
        "    \"\"\"\n",
        "    features = normalize(features)\n",
        "    labels = one_hot_encode(labels)\n",
        "\n",
        "    pickle.dump((features, labels), open(filename, 'wb'))\n",
        "\n",
        "\n",
        "def preprocess_and_save_data(cifar10_dataset_folder_path, normalize, one_hot_encode):\n",
        "    \"\"\"\n",
        "    Preprocess Training and Validation Data\n",
        "    \"\"\"\n",
        "    n_batches = 5\n",
        "    valid_features = []\n",
        "    valid_labels = []\n",
        "\n",
        "    for batch_i in range(1, n_batches + 1):\n",
        "        features, labels = load_cfar10_batch(cifar10_dataset_folder_path, batch_i)\n",
        "        validation_count = int(len(features) * 0.1)\n",
        "\n",
        "        # Prprocess and save a batch of training data\n",
        "        _preprocess_and_save(\n",
        "            normalize,\n",
        "            one_hot_encode,\n",
        "            features[:-validation_count],\n",
        "            labels[:-validation_count],\n",
        "            'preprocess_batch_' + str(batch_i) + '.p')\n",
        "\n",
        "        # Use a portion of training batch for validation\n",
        "        valid_features.extend(features[-validation_count:])\n",
        "        valid_labels.extend(labels[-validation_count:])\n",
        "\n",
        "    # Preprocess and Save all validation data\n",
        "    _preprocess_and_save(\n",
        "        normalize,\n",
        "        one_hot_encode,\n",
        "        np.array(valid_features),\n",
        "        np.array(valid_labels),\n",
        "        'preprocess_validation.p')\n",
        "\n",
        "    with open(cifar10_dataset_folder_path + '/test_batch', mode='rb') as file:\n",
        "        batch = pickle.load(file, encoding='latin1')\n",
        "\n",
        "    # load the training data\n",
        "    test_features = batch['data'].reshape((len(batch['data']), 3, 32, 32)).transpose(0, 2, 3, 1)\n",
        "    test_labels = batch['labels']\n",
        "\n",
        "    # Preprocess and Save all training data\n",
        "    _preprocess_and_save(\n",
        "        normalize,\n",
        "        one_hot_encode,\n",
        "        np.array(test_features),\n",
        "        np.array(test_labels),\n",
        "        'preprocess_training.p')\n",
        "\n",
        "\n",
        "def batch_features_labels(features, labels, batch_size):\n",
        "    \"\"\"\n",
        "    Split features and labels into batches\n",
        "    \"\"\"\n",
        "    for start in range(0, len(features), batch_size):\n",
        "        end = min(start + batch_size, len(features))\n",
        "        yield features[start:end], labels[start:end]\n",
        "\n",
        "\n",
        "def load_preprocess_training_batch(batch_id, batch_size):\n",
        "    \"\"\"\n",
        "    Load the Preprocessed Training data and return them in batches of <batch_size> or less\n",
        "    \"\"\"\n",
        "    filename = 'preprocess_batch_' + str(batch_id) + '.p'\n",
        "    features, labels = pickle.load(open(filename, mode='rb'))\n",
        "\n",
        "    # Return the training data in batches of size <batch_size> or less\n",
        "    return batch_features_labels(features, labels, batch_size)\n",
        "\n",
        "\n",
        "def display_image_predictions(features, labels, predictions):\n",
        "    n_classes = 10\n",
        "    label_names = _load_label_names()\n",
        "    label_binarizer = LabelBinarizer()\n",
        "    label_binarizer.fit(range(n_classes))\n",
        "    label_ids = label_binarizer.inverse_transform(np.array(labels))\n",
        "\n",
        "    fig, axies = plt.subplots(nrows=4, ncols=2)\n",
        "    fig.tight_layout()\n",
        "    fig.suptitle('Softmax Predictions', fontsize=20, y=1.1)\n",
        "\n",
        "    n_predictions = 3\n",
        "    margin = 0.05\n",
        "    ind = np.arange(n_predictions)\n",
        "    width = (1. - 2. * margin) / n_predictions\n",
        "\n",
        "    for image_i, (feature, label_id, pred_indicies, pred_values) in enumerate(zip(features, label_ids, predictions.indices, predictions.values)):\n",
        "        pred_names = [label_names[pred_i] for pred_i in pred_indicies]\n",
        "        correct_name = label_names[label_id]\n",
        "\n",
        "        axies[image_i][0].imshow(feature*255)\n",
        "        axies[image_i][0].set_title(correct_name)\n",
        "        axies[image_i][0].set_axis_off()\n",
        "\n",
        "        axies[image_i][1].barh(ind + margin, pred_values[::-1], width)\n",
        "        axies[image_i][1].set_yticks(ind + margin)\n",
        "        axies[image_i][1].set_yticklabels(pred_names[::-1])\n",
        "        axies[image_i][1].set_xticks([0, 0.5, 1.0])\n"
      ],
      "execution_count": 0,
      "outputs": []
    },
    {
      "cell_type": "code",
      "metadata": {
        "colab_type": "code",
        "id": "z3fO1CELffcK",
        "outputId": "fa7cdd51-047c-498f-c11e-01eb9ceb4153",
        "scrolled": false,
        "colab": {
          "base_uri": "https://localhost:8080/",
          "height": 439
        }
      },
      "source": [
        "%matplotlib inline\n",
        "%config InlineBackend.figure_format = 'retina'\n",
        "\n",
        "import numpy as np\n",
        "\n",
        "# Explore the dataset\n",
        "batch_id = 3\n",
        "sample_id = 5\n",
        "display_stats(cifar10_dataset_folder_path, batch_id, sample_id)"
      ],
      "execution_count": 3,
      "outputs": [
        {
          "output_type": "stream",
          "text": [
            "\n",
            "Stats of batch 3:\n",
            "Samples: 10000\n",
            "Label Counts: {0: 994, 1: 1042, 2: 965, 3: 997, 4: 990, 5: 1029, 6: 978, 7: 1015, 8: 961, 9: 1029}\n",
            "First 20 Labels: [8, 5, 0, 6, 9, 2, 8, 3, 6, 2, 7, 4, 6, 9, 0, 0, 7, 3, 7, 2]\n",
            "\n",
            "Example of Image 5:\n",
            "Image - Min Value: 9 Max Value: 255\n",
            "Image - Shape: (32, 32, 3)\n",
            "Label - Label Id: 2 Name: bird\n"
          ],
          "name": "stdout"
        },
        {
          "output_type": "display_data",
          "data": {
            "image/png": "[encoded data removed]",
            "text/plain": [
              "<Figure size 432x288 with 1 Axes>"
            ]
          },
          "metadata": {
            "tags": [],
            "image/png": {
              "width": 251,
              "height": 248
            }
          }
        }
      ]
    },
    {
      "cell_type": "markdown",
      "metadata": {
        "colab_type": "text",
        "id": "msav2B5_ffcX"
      },
      "source": [
        "## Implement Preprocess Functions\n",
        "### Normalize\n",
        "The `normalize` function is implemented to take in image data, `x`, and return it as a normalized Numpy array. The values should be in the range of 0 to 1, inclusive.  The return object should be the same shape as `x`."
      ]
    },
    {
      "cell_type": "code",
      "metadata": {
        "colab_type": "code",
        "id": "P8__ssNjffcZ",
        "colab": {}
      },
      "source": [
        "import numpy as np\n",
        "def normalize(x):\n",
        "    \"\"\"\n",
        "    Normalize a list of sample image data in the range of 0 to 1\n",
        "    : x: List of image data.  The image shape is (32, 32, 3)\n",
        "    : return: Numpy array of normalize data\n",
        "    \"\"\"\n",
        "    x = np.array(x)\n",
        "    x_max = np.max(x)\n",
        "    x_min = np.min(x)\n",
        "    output = (x - x_min)/(x_max - x_min)\n",
        "    return output\n"
      ],
      "execution_count": 0,
      "outputs": []
    },
    {
      "cell_type": "markdown",
      "metadata": {
        "colab_type": "text",
        "id": "T0C4Lsg5ffcj"
      },
      "source": [
        "### One-hot encode\n",
        "Implement the `one_hot_encode` function. The input, `x`, are a list of labels.  The function returns the list of labels as One-Hot encoded Numpy array.  The possible values for labels are 0 to 9. The one-hot encoding function should return the same encoding for each value between each call to `one_hot_encode`.  The map of encodings should be saved outside the function.\n"
      ]
    },
    {
      "cell_type": "code",
      "metadata": {
        "colab_type": "code",
        "id": "L1kJ_BVYffcp",
        "colab": {}
      },
      "source": [
        "from sklearn import preprocessing\n",
        "lb = preprocessing.LabelBinarizer()\n",
        "lb.fit(range(10))\n",
        "def one_hot_encode(x):\n",
        "    \"\"\"\n",
        "    One hot encode a list of sample labels. Return a one-hot encoded vector for each label.\n",
        "    : x: List of sample Labels\n",
        "    : return: Numpy array of one-hot encoded labels\n",
        "    \"\"\"\n",
        "    \n",
        "    return lb.transform(x)\n"
      ],
      "execution_count": 0,
      "outputs": []
    },
    {
      "cell_type": "markdown",
      "metadata": {
        "colab_type": "text",
        "id": "EYE94652ffcv"
      },
      "source": [
        "### Randomize Data\n",
        "Now the order of the samples are randomized.  It doesn't hurt to randomize it again, but it's not needed for this dataset."
      ]
    },
    {
      "cell_type": "markdown",
      "metadata": {
        "colab_type": "text",
        "id": "zaoMxAuxffc1"
      },
      "source": [
        "## Preprocess all the data and save it\n",
        "Running the code cell below will preprocess all the CIFAR-10 data and save it to file. The code below also uses 10% of the training data for validation."
      ]
    },
    {
      "cell_type": "code",
      "metadata": {
        "colab_type": "code",
        "id": "_V7NMa9_ffc6",
        "colab": {}
      },
      "source": [
        "preprocess_and_save_data(cifar10_dataset_folder_path, normalize, one_hot_encode)"
      ],
      "execution_count": 0,
      "outputs": []
    },
    {
      "cell_type": "code",
      "metadata": {
        "colab_type": "code",
        "id": "DNlxSb2JffdE",
        "colab": {}
      },
      "source": [
        "valid_features, valid_labels = pickle.load(open('preprocess_validation.p', mode='rb'))"
      ],
      "execution_count": 0,
      "outputs": []
    },
    {
      "cell_type": "markdown",
      "metadata": {
        "colab_type": "text",
        "id": "ztv1A-0NffdT"
      },
      "source": [
        "## Build the network\n",
        "\n",
        "### Input\n",
        "The neural network needs to read the image data, one-hot encoded labels, and dropout keep probability. Implement the following functions\n",
        "* Implement `neural_net_image_input`\n",
        "* Implement `neural_net_label_input`\n",
        "* Implement `neural_net_keep_prob_input`\n",
        "\n",
        "These names will be used at the end of the project to load your saved model.\n",
        "\n"
      ]
    },
    {
      "cell_type": "code",
      "metadata": {
        "colab_type": "code",
        "id": "cJjgIvpyffdW",
        "colab": {}
      },
      "source": [
        "import tensorflow as tf\n",
        "\n",
        "def neural_net_image_input(image_shape):\n",
        "    \"\"\"\n",
        "    Return a Tensor for a bach of image input\n",
        "    : image_shape: Shape of the images\n",
        "    : return: Tensor for image input.\n",
        "    \"\"\"\n",
        "    \n",
        "    return tf.placeholder(tf.float32, shape = (None, image_shape[0], image_shape[1], image_shape[2]), name = 'x')\n",
        "\n",
        "\n",
        "def neural_net_label_input(n_classes):\n",
        "    \"\"\"\n",
        "    Return a Tensor for a batch of label input\n",
        "    : n_classes: Number of classes\n",
        "    : return: Tensor for label input.\n",
        "    \"\"\"\n",
        "    return tf.placeholder(tf.float32, shape = (None, n_classes), name = 'y')\n",
        "\n",
        "\n",
        "def neural_net_keep_prob_input():\n",
        "    \"\"\"\n",
        "    Return a Tensor for keep probability\n",
        "    : return: Tensor for keep probability.\n",
        "    \"\"\"\n",
        "    return tf.placeholder(tf.float32, shape = (None), name = 'keep_prob')\n",
        "\n",
        "\n",
        "tf.reset_default_graph()\n"
      ],
      "execution_count": 0,
      "outputs": []
    },
    {
      "cell_type": "markdown",
      "metadata": {
        "colab_type": "text",
        "id": "HYnol51iffdf"
      },
      "source": [
        "### Convolution and Max Pooling Layer\n",
        "Implement the function `conv2d_maxpool` to apply convolution then max pooling:\n",
        "* Create the weight and bias using `conv_ksize`, `conv_num_outputs` and the shape of `x_tensor`.\n",
        "* Apply a convolution to `x_tensor` using weight and `conv_strides`.\n",
        "* Add bias\n",
        "* Add a nonlinear activation to the convolution.\n",
        "* Apply Max Pooling using `pool_ksize` and `pool_strides`.\n"
      ]
    },
    {
      "cell_type": "code",
      "metadata": {
        "colab_type": "code",
        "id": "I10m2DCjffdh",
        "colab": {}
      },
      "source": [
        "def conv2d_maxpool(x_tensor, conv_num_outputs, conv_ksize, conv_strides, pool_ksize, pool_strides):\n",
        "    \"\"\"\n",
        "    Apply convolution then max pooling to x_tensor\n",
        "    :param x_tensor: TensorFlow Tensor\n",
        "    :param conv_num_outputs: Number of outputs for the convolutional layer\n",
        "    :param conv_strides: Stride 2-D Tuple for convolution\n",
        "    :param pool_ksize: kernal size 2-D Tuple for pool\n",
        "    :param pool_strides: Stride 2-D Tuple for pool\n",
        "    : return: A tensor that represents convolution and max pooling of x_tensor\n",
        "    \"\"\"\n",
        "    shape_of_x_tensor = x_tensor.get_shape().as_list()\n",
        "    F_W = tf.Variable(tf.truncated_normal([conv_ksize[0] ,conv_ksize[1] ,shape_of_x_tensor[-1] ,conv_num_outputs] \n",
        "                                          ,dtype=tf.float32, stddev=0.2))\n",
        "    F_b = tf.Variable(tf.zeros([conv_num_outputs]  ,dtype=tf.float32))\n",
        "    strides_conv = [1, conv_strides[0], conv_strides[1], 1]\n",
        "    padding = 'SAME'\n",
        "    output = tf.nn.conv2d(x_tensor, F_W, strides_conv, padding)\n",
        "    output = tf.nn.bias_add(output, F_b)\n",
        "    output = tf.nn.relu(output)\n",
        "    ksize_maxpool = [1, pool_ksize[0], pool_ksize[1], 1]\n",
        "    strides_maxpool = [1, pool_strides[0], pool_strides[1], 1]\n",
        "    output = tf.nn.max_pool(output, ksize_maxpool, strides_maxpool, padding)\n",
        "    \n",
        "    return output \n"
      ],
      "execution_count": 0,
      "outputs": []
    },
    {
      "cell_type": "markdown",
      "metadata": {
        "colab_type": "text",
        "id": "bOPLOICLffdq"
      },
      "source": [
        "### Flatten Layer\n",
        "Implement the `flatten` function to change the dimension of `x_tensor` from a 4-D tensor to a 2-D tensor.  The output should be the shape (*Batch Size*, *Flattened Image Size*). "
      ]
    },
    {
      "cell_type": "code",
      "metadata": {
        "colab_type": "code",
        "id": "F350AmREffdv",
        "colab": {}
      },
      "source": [
        "def flatten(x_tensor):\n",
        "    \"\"\"\n",
        "    Flatten x_tensor to (Batch Size, Flattened Image Size)\n",
        "    : x_tensor: A tensor of size (Batch Size, ...), where ... are the image dimensions.\n",
        "    : return: A tensor of size (Batch Size, Flattened Image Size).\n",
        "    \"\"\"\n",
        "    # TODO: Implement Function\n",
        "    shape = x_tensor.get_shape().as_list()\n",
        "    flat_dim = shape[1]*shape[2]*shape[3]\n",
        "    output = tf.reshape(x_tensor, [-1, flat_dim])\n",
        "    return output\n"
      ],
      "execution_count": 0,
      "outputs": []
    },
    {
      "cell_type": "markdown",
      "metadata": {
        "colab_type": "text",
        "id": "KFG7H-0offd7"
      },
      "source": [
        "### Fully-Connected Layer\n",
        "Implement the `fully_conn` function to apply a fully connected layer to `x_tensor` with the shape (*Batch Size*, *num_outputs*). "
      ]
    },
    {
      "cell_type": "code",
      "metadata": {
        "colab_type": "code",
        "id": "a1X-6y5Tffd9",
        "colab": {}
      },
      "source": [
        "def fully_conn(x_tensor, num_outputs):\n",
        "    \"\"\"\n",
        "    Apply a fully connected layer to x_tensor using weight and bias\n",
        "    : x_tensor: A 2-D tensor where the first dimension is batch size.\n",
        "    : num_outputs: The number of output that the new tensor should be.\n",
        "    : return: A 2-D tensor where the second dimension is num_outputs.\n",
        "    \"\"\"\n",
        "    # TODO: Implement Function\n",
        "    shape = x_tensor.get_shape().as_list()\n",
        "    weights= tf.Variable(tf.truncated_normal([shape[1], num_outputs] ,dtype=tf.float32, stddev=0.2))\n",
        "    biases = tf.Variable(tf.zeros([num_outputs]  ,dtype=tf.float32))\n",
        "    out = tf.add(tf.matmul(x_tensor, weights), biases)\n",
        "    out = tf.nn.relu(out)\n",
        "    return out\n"
      ],
      "execution_count": 0,
      "outputs": []
    },
    {
      "cell_type": "markdown",
      "metadata": {
        "colab_type": "text",
        "id": "LWyaDqWSffeC"
      },
      "source": [
        "### Output Layer\n",
        "Implement the `output` function to apply a fully connected layer to `x_tensor` with the shape (*Batch Size*, *num_outputs*). "
      ]
    },
    {
      "cell_type": "code",
      "metadata": {
        "colab_type": "code",
        "id": "iI3qRtn4ffeD",
        "colab": {}
      },
      "source": [
        "def output(x_tensor, num_outputs):\n",
        "    \"\"\"\n",
        "    Apply a output layer to x_tensor using weight and bias\n",
        "    : x_tensor: A 2-D tensor where the first dimension is batch size.\n",
        "    : num_outputs: The number of output that the new tensor should be.\n",
        "    : return: A 2-D tensor where the second dimension is num_outputs.\n",
        "    \"\"\"\n",
        "    shape = x_tensor.get_shape().as_list()\n",
        "    weights= tf.Variable(tf.truncated_normal([shape[1], num_outputs] ,dtype=tf.float32, stddev=0.2))\n",
        "    biases = tf.Variable(tf.zeros([num_outputs]  ,dtype=tf.float32))\n",
        "    out = tf.add(tf.matmul(x_tensor, weights), biases)\n",
        "    return out\n"
      ],
      "execution_count": 0,
      "outputs": []
    },
    {
      "cell_type": "markdown",
      "metadata": {
        "colab_type": "text",
        "id": "TNqWqVz6ffeS"
      },
      "source": [
        "### Create Convolutional Model\n",
        "Implement the function `conv_net` to create a convolutional neural network model. The function takes in a batch of images, `x`, and outputs logits. The above layers userd to create this model:\n",
        "\n",
        "* Apply 1, 2, or 3 Convolution and Max Pool layers\n",
        "* Apply a Flatten Layer\n",
        "* Apply 1, 2, or 3 Fully Connected Layers\n",
        "* Apply an Output Layer\n",
        "* Return the output\n",
        "* Apply dropout to one or more layers in the model using `keep_prob`. "
      ]
    },
    {
      "cell_type": "code",
      "metadata": {
        "colab_type": "code",
        "id": "Fs6MB-LRffeV",
        "colab": {
          "base_uri": "https://localhost:8080/",
          "height": 280
        },
        "outputId": "c1c84be3-65f1-44e4-8e99-132580a3642a"
      },
      "source": [
        "def conv_net(x, keep_prob):\n",
        "    \"\"\"\n",
        "    Create a convolutional neural network model\n",
        "    : x: Placeholder tensor that holds image data.\n",
        "    : keep_prob: Placeholder tensor that hold dropout keep probability.\n",
        "    : return: Tensor that represents logits\n",
        "    \"\"\"\n",
        "\n",
        "    out = conv2d_maxpool(x, conv_num_outputs = 16, conv_ksize = (3,3), conv_strides = (1,1), pool_ksize=(2,2), pool_strides=(2,2))\n",
        "    out = conv2d_maxpool(out, conv_num_outputs = 32, conv_ksize = (3,3), conv_strides = (1,1), pool_ksize=(2,2), pool_strides=(2,2))\n",
        "    out = conv2d_maxpool(out, conv_num_outputs = 64, conv_ksize = (3,3), conv_strides = (1,1), pool_ksize=(2,2), pool_strides=(2,2))\n",
        "\n",
        "    # Function Definition from Above:\n",
        "    out = flatten(out)\n",
        "    \n",
        "    \n",
        "\n",
        "    out = fully_conn(out, num_outputs = 64)\n",
        "    out = tf.nn.dropout(out, keep_prob)\n",
        "    out = fully_conn(out, num_outputs = 32)\n",
        "    out = tf.nn.dropout(out, keep_prob)\n",
        "    out = fully_conn(out, num_outputs = 16)\n",
        "    #    Set this to the number of classes\n",
        "    # Function Definition from Above:\n",
        "    out = output(out, num_outputs = 10)\n",
        "\n",
        "    return out\n",
        "\n",
        "\n",
        "##############################\n",
        "## Build the Neural Network ##\n",
        "##############################\n",
        "\n",
        "# Remove previous weights, bias, inputs, etc..\n",
        "tf.reset_default_graph()\n",
        "\n",
        "# Inputs\n",
        "x = neural_net_image_input((32, 32, 3))\n",
        "y = neural_net_label_input(10)\n",
        "keep_prob = neural_net_keep_prob_input()\n",
        "\n",
        "# Model\n",
        "logits = conv_net(x, keep_prob)\n",
        "\n",
        "# Name logits Tensor, so that is can be loaded from disk after training\n",
        "logits = tf.identity(logits, name='logits')\n",
        "\n",
        "# Loss and Optimizer\n",
        "cost = tf.reduce_mean(tf.nn.softmax_cross_entropy_with_logits(logits=logits, labels=y))\n",
        "optimizer = tf.train.AdamOptimizer().minimize(cost)\n",
        "\n",
        "# Accuracy\n",
        "correct_pred = tf.equal(tf.argmax(logits, 1), tf.argmax(y, 1))\n",
        "accuracy = tf.reduce_mean(tf.cast(correct_pred, tf.float32), name='accuracy')\n",
        "\n"
      ],
      "execution_count": 14,
      "outputs": [
        {
          "output_type": "stream",
          "text": [
            "WARNING:tensorflow:From /usr/local/lib/python3.6/dist-packages/tensorflow/python/framework/op_def_library.py:263: colocate_with (from tensorflow.python.framework.ops) is deprecated and will be removed in a future version.\n",
            "Instructions for updating:\n",
            "Colocations handled automatically by placer.\n",
            "WARNING:tensorflow:From <ipython-input-14-2f9c98f02500>:19: calling dropout (from tensorflow.python.ops.nn_ops) with keep_prob is deprecated and will be removed in a future version.\n",
            "Instructions for updating:\n",
            "Please use `rate` instead of `keep_prob`. Rate should be set to `rate = 1 - keep_prob`.\n",
            "WARNING:tensorflow:From <ipython-input-14-2f9c98f02500>:49: softmax_cross_entropy_with_logits (from tensorflow.python.ops.nn_ops) is deprecated and will be removed in a future version.\n",
            "Instructions for updating:\n",
            "\n",
            "Future major versions of TensorFlow will allow gradients to flow\n",
            "into the labels input on backprop by default.\n",
            "\n",
            "See `tf.nn.softmax_cross_entropy_with_logits_v2`.\n",
            "\n"
          ],
          "name": "stdout"
        }
      ]
    },
    {
      "cell_type": "markdown",
      "metadata": {
        "colab_type": "text",
        "id": "r8OgwqSKffeg"
      },
      "source": [
        "## Train the Neural Network\n",
        "### Single Optimization\n",
        "Implement the function `train_neural_network` to do a single optimization.  The optimization uses `optimizer` to optimize in `session` with a `feed_dict` of the following:\n",
        "* `x` for image input\n",
        "* `y` for labels\n",
        "* `keep_prob` for keep probability for dropout\n",
        "\n"
      ]
    },
    {
      "cell_type": "code",
      "metadata": {
        "colab_type": "code",
        "id": "WQf2Slxgffek",
        "colab": {}
      },
      "source": [
        "def train_neural_network(session, optimizer, keep_probability, feature_batch, label_batch):\n",
        "    \"\"\"\n",
        "    Optimize the session on a batch of images and labels\n",
        "    : session: Current TensorFlow session\n",
        "    : optimizer: TensorFlow optimizer function\n",
        "    : keep_probability: keep probability\n",
        "    : feature_batch: Batch of Numpy image data\n",
        "    : label_batch: Batch of Numpy label data\n",
        "    \"\"\"\n",
        "    session.run(optimizer, feed_dict={x:feature_batch, y:label_batch,keep_prob:keep_probability})\n"
      ],
      "execution_count": 0,
      "outputs": []
    },
    {
      "cell_type": "markdown",
      "metadata": {
        "colab_type": "text",
        "id": "L4GjcHeJffev"
      },
      "source": [
        "### Show Stats\n",
        "Implement the function `print_stats` to print loss and validation accuracy.  "
      ]
    },
    {
      "cell_type": "code",
      "metadata": {
        "colab_type": "code",
        "id": "fm3vpebsfffN",
        "colab": {}
      },
      "source": [
        "def print_stats(session, feature_batch, label_batch, cost, accuracy):\n",
        "    \"\"\"\n",
        "    Print information about loss and validation accuracy\n",
        "    : session: Current TensorFlow session\n",
        "    : feature_batch: Batch of Numpy image data\n",
        "    : label_batch: Batch of Numpy label data\n",
        "    : cost: TensorFlow cost function\n",
        "    : accuracy: TensorFlow accuracy function\n",
        "    \"\"\"\n",
        "    valid_acc = sess.run(accuracy, feed_dict={\n",
        "                x: valid_features,\n",
        "                y: valid_labels,\n",
        "                keep_prob: 1.})\n",
        "    train_acc = sess.run(accuracy, feed_dict={\n",
        "                x: feature_batch,\n",
        "                y: label_batch,\n",
        "                keep_prob: 1.})\n",
        "    train_cost = sess.run(cost, feed_dict={\n",
        "                x: feature_batch,\n",
        "                y: label_batch,\n",
        "                keep_prob: 1.})\n",
        "    print('Cost {::>8.5f}, Accuracy on Training {:.4f} -'\n",
        "                  'Validation Accuracy: {:.4f}'.format(\n",
        "                train_cost,\n",
        "                train_acc,\n",
        "                valid_acc))"
      ],
      "execution_count": 0,
      "outputs": []
    },
    {
      "cell_type": "markdown",
      "metadata": {
        "colab_type": "text",
        "id": "0IAZd6gvfffX"
      },
      "source": [
        "### Hyperparameters\n",
        "The following parameters are tuned:\n",
        "* Set `epochs` to the number of iterations until the network stops learning or start overfitting\n",
        "* Set `batch_size` \n",
        "* Set `keep_probability` to the probability of keeping a node using dropout"
      ]
    },
    {
      "cell_type": "code",
      "metadata": {
        "colab_type": "code",
        "id": "KT9OrDjufffp",
        "colab": {}
      },
      "source": [
        "epochs = 50\n",
        "batch_size = 256\n",
        "keep_probability = 0.6"
      ],
      "execution_count": 0,
      "outputs": []
    },
    {
      "cell_type": "markdown",
      "metadata": {
        "colab_type": "text",
        "id": "535N9K3lfff5"
      },
      "source": [
        "### Train on a Single CIFAR-10 Batch\n",
        "Instead of training the neural network on all the CIFAR-10 batches of data, a single batch has been used. This is for saving time while iterate on the model to get a better accuracy.  Once the final validation accuracy is 50% or greater, the model can be run on all the data."
      ]
    },
    {
      "cell_type": "code",
      "metadata": {
        "colab_type": "code",
        "id": "WBHJG9twfff9",
        "outputId": "ffb54b8b-aedb-4f34-bab3-2a200c7c190e",
        "colab": {
          "base_uri": "https://localhost:8080/",
          "height": 901
        }
      },
      "source": [
        "print('Checking the Training on a Single Batch...')\n",
        "with tf.Session() as sess:\n",
        "    # Initializing the variables\n",
        "    sess.run(tf.global_variables_initializer())\n",
        "    \n",
        "    # Training cycle\n",
        "    for epoch in range(epochs):\n",
        "        batch_i = 1\n",
        "        for batch_features, batch_labels in load_preprocess_training_batch(batch_i, batch_size):\n",
        "            train_neural_network(sess, optimizer, keep_probability, batch_features, batch_labels)\n",
        "        print('Epoch {:>2}, CIFAR-10 Batch {}:  '.format(epoch + 1, batch_i), end='')\n",
        "        print_stats(sess, batch_features, batch_labels, cost, accuracy)"
      ],
      "execution_count": 18,
      "outputs": [
        {
          "output_type": "stream",
          "text": [
            "Checking the Training on a Single Batch...\n",
            "Epoch  1, CIFAR-10 Batch 1:  Cost :2.27425, Accuracy on Training 0.1250 -Validation Accuracy: 0.1190\n",
            "Epoch  2, CIFAR-10 Batch 1:  Cost :2.25925, Accuracy on Training 0.2000 -Validation Accuracy: 0.1812\n",
            "Epoch  3, CIFAR-10 Batch 1:  Cost :2.22405, Accuracy on Training 0.1750 -Validation Accuracy: 0.2162\n",
            "Epoch  4, CIFAR-10 Batch 1:  Cost :2.19201, Accuracy on Training 0.2250 -Validation Accuracy: 0.2124\n",
            "Epoch  5, CIFAR-10 Batch 1:  Cost :2.15159, Accuracy on Training 0.2250 -Validation Accuracy: 0.2200\n",
            "Epoch  6, CIFAR-10 Batch 1:  Cost :2.11572, Accuracy on Training 0.1500 -Validation Accuracy: 0.2478\n",
            "Epoch  7, CIFAR-10 Batch 1:  Cost :2.06256, Accuracy on Training 0.3250 -Validation Accuracy: 0.2668\n",
            "Epoch  8, CIFAR-10 Batch 1:  Cost :2.00049, Accuracy on Training 0.2500 -Validation Accuracy: 0.2796\n",
            "Epoch  9, CIFAR-10 Batch 1:  Cost :1.94495, Accuracy on Training 0.3500 -Validation Accuracy: 0.3084\n",
            "Epoch 10, CIFAR-10 Batch 1:  Cost :1.87209, Accuracy on Training 0.4000 -Validation Accuracy: 0.3280\n",
            "Epoch 11, CIFAR-10 Batch 1:  Cost :1.80072, Accuracy on Training 0.3750 -Validation Accuracy: 0.3370\n",
            "Epoch 12, CIFAR-10 Batch 1:  Cost :1.78120, Accuracy on Training 0.4000 -Validation Accuracy: 0.3382\n",
            "Epoch 13, CIFAR-10 Batch 1:  Cost :1.76177, Accuracy on Training 0.4750 -Validation Accuracy: 0.3498\n",
            "Epoch 14, CIFAR-10 Batch 1:  Cost :1.70186, Accuracy on Training 0.4750 -Validation Accuracy: 0.3698\n",
            "Epoch 15, CIFAR-10 Batch 1:  Cost :1.65459, Accuracy on Training 0.5000 -Validation Accuracy: 0.3778\n",
            "Epoch 16, CIFAR-10 Batch 1:  Cost :1.60585, Accuracy on Training 0.4750 -Validation Accuracy: 0.3916\n",
            "Epoch 17, CIFAR-10 Batch 1:  Cost :1.51905, Accuracy on Training 0.5500 -Validation Accuracy: 0.4086\n",
            "Epoch 18, CIFAR-10 Batch 1:  Cost :1.46947, Accuracy on Training 0.5500 -Validation Accuracy: 0.4144\n",
            "Epoch 19, CIFAR-10 Batch 1:  Cost :1.43568, Accuracy on Training 0.6000 -Validation Accuracy: 0.4126\n",
            "Epoch 20, CIFAR-10 Batch 1:  Cost :1.35279, Accuracy on Training 0.5000 -Validation Accuracy: 0.4374\n",
            "Epoch 21, CIFAR-10 Batch 1:  Cost :1.34535, Accuracy on Training 0.6000 -Validation Accuracy: 0.4260\n",
            "Epoch 22, CIFAR-10 Batch 1:  Cost :1.28656, Accuracy on Training 0.6500 -Validation Accuracy: 0.4302\n",
            "Epoch 23, CIFAR-10 Batch 1:  Cost :1.27816, Accuracy on Training 0.6750 -Validation Accuracy: 0.4422\n",
            "Epoch 24, CIFAR-10 Batch 1:  Cost :1.21395, Accuracy on Training 0.6750 -Validation Accuracy: 0.4478\n",
            "Epoch 25, CIFAR-10 Batch 1:  Cost :1.18691, Accuracy on Training 0.6500 -Validation Accuracy: 0.4256\n",
            "Epoch 26, CIFAR-10 Batch 1:  Cost :1.23596, Accuracy on Training 0.6250 -Validation Accuracy: 0.4178\n",
            "Epoch 27, CIFAR-10 Batch 1:  Cost :1.10928, Accuracy on Training 0.6250 -Validation Accuracy: 0.4666\n",
            "Epoch 28, CIFAR-10 Batch 1:  Cost :1.08624, Accuracy on Training 0.6250 -Validation Accuracy: 0.4704\n",
            "Epoch 29, CIFAR-10 Batch 1:  Cost :1.01812, Accuracy on Training 0.6250 -Validation Accuracy: 0.4706\n",
            "Epoch 30, CIFAR-10 Batch 1:  Cost :0.97352, Accuracy on Training 0.6750 -Validation Accuracy: 0.4848\n",
            "Epoch 31, CIFAR-10 Batch 1:  Cost :0.95017, Accuracy on Training 0.6750 -Validation Accuracy: 0.4672\n",
            "Epoch 32, CIFAR-10 Batch 1:  Cost :0.92322, Accuracy on Training 0.7250 -Validation Accuracy: 0.4744\n",
            "Epoch 33, CIFAR-10 Batch 1:  Cost :0.94385, Accuracy on Training 0.7250 -Validation Accuracy: 0.4780\n",
            "Epoch 34, CIFAR-10 Batch 1:  Cost :0.88975, Accuracy on Training 0.6750 -Validation Accuracy: 0.4926\n",
            "Epoch 35, CIFAR-10 Batch 1:  Cost :0.87120, Accuracy on Training 0.6750 -Validation Accuracy: 0.4860\n",
            "Epoch 36, CIFAR-10 Batch 1:  Cost :0.84944, Accuracy on Training 0.6250 -Validation Accuracy: 0.4924\n",
            "Epoch 37, CIFAR-10 Batch 1:  Cost :0.80519, Accuracy on Training 0.7250 -Validation Accuracy: 0.4846\n",
            "Epoch 38, CIFAR-10 Batch 1:  Cost :0.81739, Accuracy on Training 0.6750 -Validation Accuracy: 0.5036\n",
            "Epoch 39, CIFAR-10 Batch 1:  Cost :0.80635, Accuracy on Training 0.7000 -Validation Accuracy: 0.4896\n",
            "Epoch 40, CIFAR-10 Batch 1:  Cost :0.77116, Accuracy on Training 0.7500 -Validation Accuracy: 0.4962\n",
            "Epoch 41, CIFAR-10 Batch 1:  Cost :0.74204, Accuracy on Training 0.7250 -Validation Accuracy: 0.5096\n",
            "Epoch 42, CIFAR-10 Batch 1:  Cost :0.71435, Accuracy on Training 0.8000 -Validation Accuracy: 0.5002\n",
            "Epoch 43, CIFAR-10 Batch 1:  Cost :0.69858, Accuracy on Training 0.7750 -Validation Accuracy: 0.5050\n",
            "Epoch 44, CIFAR-10 Batch 1:  Cost :0.71671, Accuracy on Training 0.8000 -Validation Accuracy: 0.5088\n",
            "Epoch 45, CIFAR-10 Batch 1:  Cost :0.69706, Accuracy on Training 0.7750 -Validation Accuracy: 0.5106\n",
            "Epoch 46, CIFAR-10 Batch 1:  Cost :0.70810, Accuracy on Training 0.7500 -Validation Accuracy: 0.5100\n",
            "Epoch 47, CIFAR-10 Batch 1:  Cost :0.66659, Accuracy on Training 0.7750 -Validation Accuracy: 0.5066\n",
            "Epoch 48, CIFAR-10 Batch 1:  Cost :0.67779, Accuracy on Training 0.7500 -Validation Accuracy: 0.5046\n",
            "Epoch 49, CIFAR-10 Batch 1:  Cost :0.62819, Accuracy on Training 0.7750 -Validation Accuracy: 0.5140\n",
            "Epoch 50, CIFAR-10 Batch 1:  Cost :0.64839, Accuracy on Training 0.8000 -Validation Accuracy: 0.5264\n"
          ],
          "name": "stdout"
        }
      ]
    },
    {
      "cell_type": "markdown",
      "metadata": {
        "colab_type": "text",
        "id": "QM28G5ZrffgS"
      },
      "source": [
        "### Fully Train the Model\n",
        "As the accuracy is good now with a single CIFAR-10 batch, let's try it with all five batches."
      ]
    },
    {
      "cell_type": "code",
      "metadata": {
        "colab_type": "code",
        "id": "qNwYN5ZZffgU",
        "outputId": "53ff11ce-f07e-42c4-d9d9-e499cdbc03f2",
        "colab": {
          "base_uri": "https://localhost:8080/",
          "height": 4368
        }
      },
      "source": [
        "save_model_path = './image_classification'\n",
        "\n",
        "print('Training...')\n",
        "with tf.Session() as sess:\n",
        "    # Initializing the variables\n",
        "    sess.run(tf.global_variables_initializer())\n",
        "    \n",
        "    # Training cycle\n",
        "    for epoch in range(epochs):\n",
        "        # Loop over all batches\n",
        "        n_batches = 5\n",
        "        for batch_i in range(1, n_batches + 1):\n",
        "            for batch_features, batch_labels in load_preprocess_training_batch(batch_i, batch_size):\n",
        "                train_neural_network(sess, optimizer, keep_probability, batch_features, batch_labels)\n",
        "            print('Epoch {:>2}, CIFAR-10 Batch {}:  '.format(epoch + 1, batch_i), end='')\n",
        "            print_stats(sess, batch_features, batch_labels, cost, accuracy)\n",
        "            \n",
        "    # Save Model\n",
        "    saver = tf.train.Saver()\n",
        "    save_path = saver.save(sess, save_model_path)"
      ],
      "execution_count": 19,
      "outputs": [
        {
          "output_type": "stream",
          "text": [
            "Training...\n",
            "Epoch  1, CIFAR-10 Batch 1:  Cost :2.29577, Accuracy on Training 0.1750 -Validation Accuracy: 0.1292\n",
            "Epoch  1, CIFAR-10 Batch 2:  Cost :2.28283, Accuracy on Training 0.1500 -Validation Accuracy: 0.1688\n",
            "Epoch  1, CIFAR-10 Batch 3:  Cost :2.21792, Accuracy on Training 0.3000 -Validation Accuracy: 0.1782\n",
            "Epoch  1, CIFAR-10 Batch 4:  Cost :2.19802, Accuracy on Training 0.1500 -Validation Accuracy: 0.1846\n",
            "Epoch  1, CIFAR-10 Batch 5:  Cost :2.16286, Accuracy on Training 0.2250 -Validation Accuracy: 0.1932\n",
            "Epoch  2, CIFAR-10 Batch 1:  Cost :2.21760, Accuracy on Training 0.1250 -Validation Accuracy: 0.2046\n",
            "Epoch  2, CIFAR-10 Batch 2:  Cost :2.12158, Accuracy on Training 0.1500 -Validation Accuracy: 0.2132\n",
            "Epoch  2, CIFAR-10 Batch 3:  Cost :1.94688, Accuracy on Training 0.4000 -Validation Accuracy: 0.2498\n",
            "Epoch  2, CIFAR-10 Batch 4:  Cost :1.98614, Accuracy on Training 0.2750 -Validation Accuracy: 0.2658\n",
            "Epoch  2, CIFAR-10 Batch 5:  Cost :1.97360, Accuracy on Training 0.2750 -Validation Accuracy: 0.2818\n",
            "Epoch  3, CIFAR-10 Batch 1:  Cost :2.13639, Accuracy on Training 0.3000 -Validation Accuracy: 0.2650\n",
            "Epoch  3, CIFAR-10 Batch 2:  Cost :1.99791, Accuracy on Training 0.3000 -Validation Accuracy: 0.3142\n",
            "Epoch  3, CIFAR-10 Batch 3:  Cost :1.64565, Accuracy on Training 0.4250 -Validation Accuracy: 0.3018\n",
            "Epoch  3, CIFAR-10 Batch 4:  Cost :1.79406, Accuracy on Training 0.2250 -Validation Accuracy: 0.3324\n",
            "Epoch  3, CIFAR-10 Batch 5:  Cost :1.75649, Accuracy on Training 0.3500 -Validation Accuracy: 0.3288\n",
            "Epoch  4, CIFAR-10 Batch 1:  Cost :1.94003, Accuracy on Training 0.2750 -Validation Accuracy: 0.3322\n",
            "Epoch  4, CIFAR-10 Batch 2:  Cost :1.88599, Accuracy on Training 0.3500 -Validation Accuracy: 0.3342\n",
            "Epoch  4, CIFAR-10 Batch 3:  Cost :1.50288, Accuracy on Training 0.3500 -Validation Accuracy: 0.3274\n",
            "Epoch  4, CIFAR-10 Batch 4:  Cost :1.71204, Accuracy on Training 0.3250 -Validation Accuracy: 0.3666\n",
            "Epoch  4, CIFAR-10 Batch 5:  Cost :1.71841, Accuracy on Training 0.4000 -Validation Accuracy: 0.3436\n",
            "Epoch  5, CIFAR-10 Batch 1:  Cost :1.79783, Accuracy on Training 0.3250 -Validation Accuracy: 0.3592\n",
            "Epoch  5, CIFAR-10 Batch 2:  Cost :1.73889, Accuracy on Training 0.5250 -Validation Accuracy: 0.3562\n",
            "Epoch  5, CIFAR-10 Batch 3:  Cost :1.39510, Accuracy on Training 0.4750 -Validation Accuracy: 0.3634\n",
            "Epoch  5, CIFAR-10 Batch 4:  Cost :1.64232, Accuracy on Training 0.3500 -Validation Accuracy: 0.3734\n",
            "Epoch  5, CIFAR-10 Batch 5:  Cost :1.65496, Accuracy on Training 0.3750 -Validation Accuracy: 0.3414\n",
            "Epoch  6, CIFAR-10 Batch 1:  Cost :1.74819, Accuracy on Training 0.3750 -Validation Accuracy: 0.3828\n",
            "Epoch  6, CIFAR-10 Batch 2:  Cost :1.69747, Accuracy on Training 0.5000 -Validation Accuracy: 0.3964\n",
            "Epoch  6, CIFAR-10 Batch 3:  Cost :1.37404, Accuracy on Training 0.5000 -Validation Accuracy: 0.3594\n",
            "Epoch  6, CIFAR-10 Batch 4:  Cost :1.59520, Accuracy on Training 0.3500 -Validation Accuracy: 0.3972\n",
            "Epoch  6, CIFAR-10 Batch 5:  Cost :1.60005, Accuracy on Training 0.4250 -Validation Accuracy: 0.4038\n",
            "Epoch  7, CIFAR-10 Batch 1:  Cost :1.58604, Accuracy on Training 0.4000 -Validation Accuracy: 0.4076\n",
            "Epoch  7, CIFAR-10 Batch 2:  Cost :1.67142, Accuracy on Training 0.4250 -Validation Accuracy: 0.4128\n",
            "Epoch  7, CIFAR-10 Batch 3:  Cost :1.27305, Accuracy on Training 0.5250 -Validation Accuracy: 0.4042\n",
            "Epoch  7, CIFAR-10 Batch 4:  Cost :1.50770, Accuracy on Training 0.3500 -Validation Accuracy: 0.4184\n",
            "Epoch  7, CIFAR-10 Batch 5:  Cost :1.56850, Accuracy on Training 0.4000 -Validation Accuracy: 0.4038\n",
            "Epoch  8, CIFAR-10 Batch 1:  Cost :1.49385, Accuracy on Training 0.4000 -Validation Accuracy: 0.4246\n",
            "Epoch  8, CIFAR-10 Batch 2:  Cost :1.58910, Accuracy on Training 0.4500 -Validation Accuracy: 0.4116\n",
            "Epoch  8, CIFAR-10 Batch 3:  Cost :1.33673, Accuracy on Training 0.4250 -Validation Accuracy: 0.4044\n",
            "Epoch  8, CIFAR-10 Batch 4:  Cost :1.44841, Accuracy on Training 0.3750 -Validation Accuracy: 0.4298\n",
            "Epoch  8, CIFAR-10 Batch 5:  Cost :1.42949, Accuracy on Training 0.3750 -Validation Accuracy: 0.4180\n",
            "Epoch  9, CIFAR-10 Batch 1:  Cost :1.41218, Accuracy on Training 0.3750 -Validation Accuracy: 0.4378\n",
            "Epoch  9, CIFAR-10 Batch 2:  Cost :1.51074, Accuracy on Training 0.4750 -Validation Accuracy: 0.4368\n",
            "Epoch  9, CIFAR-10 Batch 3:  Cost :1.20592, Accuracy on Training 0.5250 -Validation Accuracy: 0.4506\n",
            "Epoch  9, CIFAR-10 Batch 4:  Cost :1.35920, Accuracy on Training 0.4750 -Validation Accuracy: 0.4546\n",
            "Epoch  9, CIFAR-10 Batch 5:  Cost :1.36586, Accuracy on Training 0.5250 -Validation Accuracy: 0.4148\n",
            "Epoch 10, CIFAR-10 Batch 1:  Cost :1.33726, Accuracy on Training 0.4750 -Validation Accuracy: 0.4370\n",
            "Epoch 10, CIFAR-10 Batch 2:  Cost :1.36646, Accuracy on Training 0.5000 -Validation Accuracy: 0.4582\n",
            "Epoch 10, CIFAR-10 Batch 3:  Cost :1.16658, Accuracy on Training 0.5000 -Validation Accuracy: 0.4558\n",
            "Epoch 10, CIFAR-10 Batch 4:  Cost :1.30766, Accuracy on Training 0.5000 -Validation Accuracy: 0.4680\n",
            "Epoch 10, CIFAR-10 Batch 5:  Cost :1.31333, Accuracy on Training 0.5750 -Validation Accuracy: 0.4684\n",
            "Epoch 11, CIFAR-10 Batch 1:  Cost :1.40513, Accuracy on Training 0.4000 -Validation Accuracy: 0.4334\n",
            "Epoch 11, CIFAR-10 Batch 2:  Cost :1.34559, Accuracy on Training 0.5000 -Validation Accuracy: 0.4742\n",
            "Epoch 11, CIFAR-10 Batch 3:  Cost :1.15471, Accuracy on Training 0.4500 -Validation Accuracy: 0.4736\n",
            "Epoch 11, CIFAR-10 Batch 4:  Cost :1.25591, Accuracy on Training 0.5500 -Validation Accuracy: 0.4588\n",
            "Epoch 11, CIFAR-10 Batch 5:  Cost :1.27785, Accuracy on Training 0.6000 -Validation Accuracy: 0.4786\n",
            "Epoch 12, CIFAR-10 Batch 1:  Cost :1.39873, Accuracy on Training 0.4500 -Validation Accuracy: 0.4558\n",
            "Epoch 12, CIFAR-10 Batch 2:  Cost :1.27610, Accuracy on Training 0.5000 -Validation Accuracy: 0.4852\n",
            "Epoch 12, CIFAR-10 Batch 3:  Cost :1.14053, Accuracy on Training 0.5500 -Validation Accuracy: 0.4544\n",
            "Epoch 12, CIFAR-10 Batch 4:  Cost :1.16221, Accuracy on Training 0.5500 -Validation Accuracy: 0.4798\n",
            "Epoch 12, CIFAR-10 Batch 5:  Cost :1.24456, Accuracy on Training 0.5500 -Validation Accuracy: 0.4732\n",
            "Epoch 13, CIFAR-10 Batch 1:  Cost :1.24923, Accuracy on Training 0.5250 -Validation Accuracy: 0.4928\n",
            "Epoch 13, CIFAR-10 Batch 2:  Cost :1.25260, Accuracy on Training 0.4750 -Validation Accuracy: 0.4812\n",
            "Epoch 13, CIFAR-10 Batch 3:  Cost :1.11721, Accuracy on Training 0.5750 -Validation Accuracy: 0.4784\n",
            "Epoch 13, CIFAR-10 Batch 4:  Cost :1.15624, Accuracy on Training 0.6250 -Validation Accuracy: 0.4930\n",
            "Epoch 13, CIFAR-10 Batch 5:  Cost :1.17572, Accuracy on Training 0.5500 -Validation Accuracy: 0.4648\n",
            "Epoch 14, CIFAR-10 Batch 1:  Cost :1.22493, Accuracy on Training 0.5000 -Validation Accuracy: 0.4904\n",
            "Epoch 14, CIFAR-10 Batch 2:  Cost :1.26307, Accuracy on Training 0.5500 -Validation Accuracy: 0.4916\n",
            "Epoch 14, CIFAR-10 Batch 3:  Cost :1.07377, Accuracy on Training 0.6000 -Validation Accuracy: 0.4864\n",
            "Epoch 14, CIFAR-10 Batch 4:  Cost :1.13009, Accuracy on Training 0.5750 -Validation Accuracy: 0.5002\n",
            "Epoch 14, CIFAR-10 Batch 5:  Cost :1.16983, Accuracy on Training 0.6250 -Validation Accuracy: 0.4910\n",
            "Epoch 15, CIFAR-10 Batch 1:  Cost :1.14828, Accuracy on Training 0.4750 -Validation Accuracy: 0.5150\n",
            "Epoch 15, CIFAR-10 Batch 2:  Cost :1.19803, Accuracy on Training 0.5000 -Validation Accuracy: 0.4952\n",
            "Epoch 15, CIFAR-10 Batch 3:  Cost :1.04442, Accuracy on Training 0.6250 -Validation Accuracy: 0.4906\n",
            "Epoch 15, CIFAR-10 Batch 4:  Cost :1.11299, Accuracy on Training 0.6500 -Validation Accuracy: 0.5186\n",
            "Epoch 15, CIFAR-10 Batch 5:  Cost :1.14505, Accuracy on Training 0.5750 -Validation Accuracy: 0.4826\n",
            "Epoch 16, CIFAR-10 Batch 1:  Cost :1.23834, Accuracy on Training 0.5000 -Validation Accuracy: 0.5022\n",
            "Epoch 16, CIFAR-10 Batch 2:  Cost :1.13052, Accuracy on Training 0.5750 -Validation Accuracy: 0.5164\n",
            "Epoch 16, CIFAR-10 Batch 3:  Cost :1.00708, Accuracy on Training 0.6250 -Validation Accuracy: 0.5124\n",
            "Epoch 16, CIFAR-10 Batch 4:  Cost :1.07397, Accuracy on Training 0.5750 -Validation Accuracy: 0.5160\n",
            "Epoch 16, CIFAR-10 Batch 5:  Cost :1.11842, Accuracy on Training 0.6000 -Validation Accuracy: 0.5068\n",
            "Epoch 17, CIFAR-10 Batch 1:  Cost :1.13774, Accuracy on Training 0.5500 -Validation Accuracy: 0.5204\n",
            "Epoch 17, CIFAR-10 Batch 2:  Cost :1.08098, Accuracy on Training 0.6000 -Validation Accuracy: 0.5152\n",
            "Epoch 17, CIFAR-10 Batch 3:  Cost :0.99378, Accuracy on Training 0.6000 -Validation Accuracy: 0.5052\n",
            "Epoch 17, CIFAR-10 Batch 4:  Cost :1.07404, Accuracy on Training 0.6000 -Validation Accuracy: 0.5162\n",
            "Epoch 17, CIFAR-10 Batch 5:  Cost :1.09859, Accuracy on Training 0.6250 -Validation Accuracy: 0.5116\n",
            "Epoch 18, CIFAR-10 Batch 1:  Cost :1.07398, Accuracy on Training 0.6000 -Validation Accuracy: 0.5284\n",
            "Epoch 18, CIFAR-10 Batch 2:  Cost :1.06995, Accuracy on Training 0.5500 -Validation Accuracy: 0.5238\n",
            "Epoch 18, CIFAR-10 Batch 3:  Cost :0.97084, Accuracy on Training 0.6000 -Validation Accuracy: 0.5126\n",
            "Epoch 18, CIFAR-10 Batch 4:  Cost :0.98440, Accuracy on Training 0.6500 -Validation Accuracy: 0.5276\n",
            "Epoch 18, CIFAR-10 Batch 5:  Cost :1.05625, Accuracy on Training 0.6500 -Validation Accuracy: 0.5242\n",
            "Epoch 19, CIFAR-10 Batch 1:  Cost :1.01498, Accuracy on Training 0.6000 -Validation Accuracy: 0.5354\n",
            "Epoch 19, CIFAR-10 Batch 2:  Cost :1.08214, Accuracy on Training 0.6000 -Validation Accuracy: 0.5156\n",
            "Epoch 19, CIFAR-10 Batch 3:  Cost :0.88645, Accuracy on Training 0.6750 -Validation Accuracy: 0.5136\n",
            "Epoch 19, CIFAR-10 Batch 4:  Cost :0.97506, Accuracy on Training 0.6250 -Validation Accuracy: 0.5286\n",
            "Epoch 19, CIFAR-10 Batch 5:  Cost :1.01922, Accuracy on Training 0.6500 -Validation Accuracy: 0.5096\n",
            "Epoch 20, CIFAR-10 Batch 1:  Cost :1.01036, Accuracy on Training 0.5750 -Validation Accuracy: 0.5370\n",
            "Epoch 20, CIFAR-10 Batch 2:  Cost :1.01735, Accuracy on Training 0.6500 -Validation Accuracy: 0.5346\n",
            "Epoch 20, CIFAR-10 Batch 3:  Cost :0.89678, Accuracy on Training 0.7000 -Validation Accuracy: 0.5172\n",
            "Epoch 20, CIFAR-10 Batch 4:  Cost :0.96431, Accuracy on Training 0.6750 -Validation Accuracy: 0.5392\n",
            "Epoch 20, CIFAR-10 Batch 5:  Cost :1.05882, Accuracy on Training 0.6500 -Validation Accuracy: 0.5176\n",
            "Epoch 21, CIFAR-10 Batch 1:  Cost :0.98809, Accuracy on Training 0.6000 -Validation Accuracy: 0.5386\n",
            "Epoch 21, CIFAR-10 Batch 2:  Cost :0.99392, Accuracy on Training 0.6750 -Validation Accuracy: 0.5264\n",
            "Epoch 21, CIFAR-10 Batch 3:  Cost :0.82614, Accuracy on Training 0.7750 -Validation Accuracy: 0.5196\n",
            "Epoch 21, CIFAR-10 Batch 4:  Cost :0.94374, Accuracy on Training 0.6750 -Validation Accuracy: 0.5354\n",
            "Epoch 21, CIFAR-10 Batch 5:  Cost :0.95746, Accuracy on Training 0.7000 -Validation Accuracy: 0.5252\n",
            "Epoch 22, CIFAR-10 Batch 1:  Cost :0.94931, Accuracy on Training 0.5750 -Validation Accuracy: 0.5408\n",
            "Epoch 22, CIFAR-10 Batch 2:  Cost :0.94811, Accuracy on Training 0.7250 -Validation Accuracy: 0.5376\n",
            "Epoch 22, CIFAR-10 Batch 3:  Cost :0.82265, Accuracy on Training 0.7000 -Validation Accuracy: 0.5096\n",
            "Epoch 22, CIFAR-10 Batch 4:  Cost :0.91279, Accuracy on Training 0.7250 -Validation Accuracy: 0.5308\n",
            "Epoch 22, CIFAR-10 Batch 5:  Cost :0.97536, Accuracy on Training 0.7250 -Validation Accuracy: 0.5178\n",
            "Epoch 23, CIFAR-10 Batch 1:  Cost :0.94487, Accuracy on Training 0.6500 -Validation Accuracy: 0.5380\n",
            "Epoch 23, CIFAR-10 Batch 2:  Cost :0.93780, Accuracy on Training 0.7000 -Validation Accuracy: 0.5390\n",
            "Epoch 23, CIFAR-10 Batch 3:  Cost :0.78959, Accuracy on Training 0.7500 -Validation Accuracy: 0.5424\n",
            "Epoch 23, CIFAR-10 Batch 4:  Cost :0.92460, Accuracy on Training 0.6250 -Validation Accuracy: 0.5416\n",
            "Epoch 23, CIFAR-10 Batch 5:  Cost :0.95522, Accuracy on Training 0.6750 -Validation Accuracy: 0.5344\n",
            "Epoch 24, CIFAR-10 Batch 1:  Cost :0.92059, Accuracy on Training 0.6500 -Validation Accuracy: 0.5460\n",
            "Epoch 24, CIFAR-10 Batch 2:  Cost :0.93693, Accuracy on Training 0.7750 -Validation Accuracy: 0.5436\n",
            "Epoch 24, CIFAR-10 Batch 3:  Cost :0.80133, Accuracy on Training 0.7500 -Validation Accuracy: 0.5352\n",
            "Epoch 24, CIFAR-10 Batch 4:  Cost :0.85157, Accuracy on Training 0.7500 -Validation Accuracy: 0.5604\n",
            "Epoch 24, CIFAR-10 Batch 5:  Cost :0.92461, Accuracy on Training 0.6750 -Validation Accuracy: 0.5470\n",
            "Epoch 25, CIFAR-10 Batch 1:  Cost :0.91794, Accuracy on Training 0.7000 -Validation Accuracy: 0.5342\n",
            "Epoch 25, CIFAR-10 Batch 2:  Cost :0.92905, Accuracy on Training 0.7500 -Validation Accuracy: 0.5506\n",
            "Epoch 25, CIFAR-10 Batch 3:  Cost :0.73334, Accuracy on Training 0.7500 -Validation Accuracy: 0.5458\n",
            "Epoch 25, CIFAR-10 Batch 4:  Cost :0.83449, Accuracy on Training 0.7250 -Validation Accuracy: 0.5488\n",
            "Epoch 25, CIFAR-10 Batch 5:  Cost :0.87737, Accuracy on Training 0.7000 -Validation Accuracy: 0.5544\n",
            "Epoch 26, CIFAR-10 Batch 1:  Cost :0.88109, Accuracy on Training 0.6500 -Validation Accuracy: 0.5674\n",
            "Epoch 26, CIFAR-10 Batch 2:  Cost :0.80430, Accuracy on Training 0.8250 -Validation Accuracy: 0.5602\n",
            "Epoch 26, CIFAR-10 Batch 3:  Cost :0.76746, Accuracy on Training 0.7250 -Validation Accuracy: 0.5580\n",
            "Epoch 26, CIFAR-10 Batch 4:  Cost :0.82030, Accuracy on Training 0.7500 -Validation Accuracy: 0.5644\n",
            "Epoch 26, CIFAR-10 Batch 5:  Cost :0.87408, Accuracy on Training 0.7500 -Validation Accuracy: 0.5554\n",
            "Epoch 27, CIFAR-10 Batch 1:  Cost :0.85751, Accuracy on Training 0.5750 -Validation Accuracy: 0.5718\n",
            "Epoch 27, CIFAR-10 Batch 2:  Cost :0.84440, Accuracy on Training 0.7750 -Validation Accuracy: 0.5656\n",
            "Epoch 27, CIFAR-10 Batch 3:  Cost :0.73290, Accuracy on Training 0.6750 -Validation Accuracy: 0.5570\n",
            "Epoch 27, CIFAR-10 Batch 4:  Cost :0.77290, Accuracy on Training 0.7250 -Validation Accuracy: 0.5712\n",
            "Epoch 27, CIFAR-10 Batch 5:  Cost :0.82426, Accuracy on Training 0.7500 -Validation Accuracy: 0.5596\n",
            "Epoch 28, CIFAR-10 Batch 1:  Cost :0.81945, Accuracy on Training 0.6500 -Validation Accuracy: 0.5772\n",
            "Epoch 28, CIFAR-10 Batch 2:  Cost :0.76778, Accuracy on Training 0.7750 -Validation Accuracy: 0.5634\n",
            "Epoch 28, CIFAR-10 Batch 3:  Cost :0.70162, Accuracy on Training 0.7500 -Validation Accuracy: 0.5634\n",
            "Epoch 28, CIFAR-10 Batch 4:  Cost :0.73891, Accuracy on Training 0.7250 -Validation Accuracy: 0.5722\n",
            "Epoch 28, CIFAR-10 Batch 5:  Cost :0.82947, Accuracy on Training 0.7250 -Validation Accuracy: 0.5544\n",
            "Epoch 29, CIFAR-10 Batch 1:  Cost :0.80816, Accuracy on Training 0.7000 -Validation Accuracy: 0.5770\n",
            "Epoch 29, CIFAR-10 Batch 2:  Cost :0.73057, Accuracy on Training 0.8000 -Validation Accuracy: 0.5692\n",
            "Epoch 29, CIFAR-10 Batch 3:  Cost :0.70762, Accuracy on Training 0.7750 -Validation Accuracy: 0.5550\n",
            "Epoch 29, CIFAR-10 Batch 4:  Cost :0.71302, Accuracy on Training 0.7250 -Validation Accuracy: 0.5764\n",
            "Epoch 29, CIFAR-10 Batch 5:  Cost :0.80253, Accuracy on Training 0.7500 -Validation Accuracy: 0.5698\n",
            "Epoch 30, CIFAR-10 Batch 1:  Cost :0.78540, Accuracy on Training 0.7250 -Validation Accuracy: 0.5758\n",
            "Epoch 30, CIFAR-10 Batch 2:  Cost :0.75005, Accuracy on Training 0.8000 -Validation Accuracy: 0.5770\n",
            "Epoch 30, CIFAR-10 Batch 3:  Cost :0.69054, Accuracy on Training 0.7750 -Validation Accuracy: 0.5592\n",
            "Epoch 30, CIFAR-10 Batch 4:  Cost :0.74882, Accuracy on Training 0.7750 -Validation Accuracy: 0.5916\n",
            "Epoch 30, CIFAR-10 Batch 5:  Cost :0.79251, Accuracy on Training 0.7500 -Validation Accuracy: 0.5842\n",
            "Epoch 31, CIFAR-10 Batch 1:  Cost :0.79909, Accuracy on Training 0.6750 -Validation Accuracy: 0.5866\n",
            "Epoch 31, CIFAR-10 Batch 2:  Cost :0.74635, Accuracy on Training 0.8250 -Validation Accuracy: 0.5776\n",
            "Epoch 31, CIFAR-10 Batch 3:  Cost :0.63262, Accuracy on Training 0.7750 -Validation Accuracy: 0.5636\n",
            "Epoch 31, CIFAR-10 Batch 4:  Cost :0.67530, Accuracy on Training 0.8250 -Validation Accuracy: 0.5862\n",
            "Epoch 31, CIFAR-10 Batch 5:  Cost :0.73926, Accuracy on Training 0.8250 -Validation Accuracy: 0.5666\n",
            "Epoch 32, CIFAR-10 Batch 1:  Cost :0.73812, Accuracy on Training 0.7250 -Validation Accuracy: 0.5904\n",
            "Epoch 32, CIFAR-10 Batch 2:  Cost :0.72644, Accuracy on Training 0.8000 -Validation Accuracy: 0.5690\n",
            "Epoch 32, CIFAR-10 Batch 3:  Cost :0.65418, Accuracy on Training 0.8250 -Validation Accuracy: 0.5434\n",
            "Epoch 32, CIFAR-10 Batch 4:  Cost :0.68496, Accuracy on Training 0.8000 -Validation Accuracy: 0.5884\n",
            "Epoch 32, CIFAR-10 Batch 5:  Cost :0.74460, Accuracy on Training 0.7500 -Validation Accuracy: 0.5840\n",
            "Epoch 33, CIFAR-10 Batch 1:  Cost :0.74724, Accuracy on Training 0.6750 -Validation Accuracy: 0.5858\n",
            "Epoch 33, CIFAR-10 Batch 2:  Cost :0.67698, Accuracy on Training 0.8250 -Validation Accuracy: 0.5690\n",
            "Epoch 33, CIFAR-10 Batch 3:  Cost :0.62762, Accuracy on Training 0.8000 -Validation Accuracy: 0.5618\n",
            "Epoch 33, CIFAR-10 Batch 4:  Cost :0.68847, Accuracy on Training 0.8000 -Validation Accuracy: 0.5856\n",
            "Epoch 33, CIFAR-10 Batch 5:  Cost :0.73680, Accuracy on Training 0.7500 -Validation Accuracy: 0.5846\n",
            "Epoch 34, CIFAR-10 Batch 1:  Cost :0.72665, Accuracy on Training 0.7250 -Validation Accuracy: 0.5922\n",
            "Epoch 34, CIFAR-10 Batch 2:  Cost :0.65565, Accuracy on Training 0.8750 -Validation Accuracy: 0.5734\n",
            "Epoch 34, CIFAR-10 Batch 3:  Cost :0.62258, Accuracy on Training 0.8000 -Validation Accuracy: 0.5458\n",
            "Epoch 34, CIFAR-10 Batch 4:  Cost :0.68648, Accuracy on Training 0.7500 -Validation Accuracy: 0.5982\n",
            "Epoch 34, CIFAR-10 Batch 5:  Cost :0.73941, Accuracy on Training 0.7250 -Validation Accuracy: 0.5784\n",
            "Epoch 35, CIFAR-10 Batch 1:  Cost :0.69708, Accuracy on Training 0.7750 -Validation Accuracy: 0.5978\n",
            "Epoch 35, CIFAR-10 Batch 2:  Cost :0.61354, Accuracy on Training 0.9000 -Validation Accuracy: 0.5744\n",
            "Epoch 35, CIFAR-10 Batch 3:  Cost :0.58829, Accuracy on Training 0.8250 -Validation Accuracy: 0.5750\n",
            "Epoch 35, CIFAR-10 Batch 4:  Cost :0.63118, Accuracy on Training 0.8000 -Validation Accuracy: 0.5928\n",
            "Epoch 35, CIFAR-10 Batch 5:  Cost :0.68012, Accuracy on Training 0.8000 -Validation Accuracy: 0.5888\n",
            "Epoch 36, CIFAR-10 Batch 1:  Cost :0.66902, Accuracy on Training 0.7500 -Validation Accuracy: 0.6020\n",
            "Epoch 36, CIFAR-10 Batch 2:  Cost :0.60605, Accuracy on Training 0.8750 -Validation Accuracy: 0.5820\n",
            "Epoch 36, CIFAR-10 Batch 3:  Cost :0.58394, Accuracy on Training 0.8000 -Validation Accuracy: 0.5858\n",
            "Epoch 36, CIFAR-10 Batch 4:  Cost :0.62596, Accuracy on Training 0.7750 -Validation Accuracy: 0.6094\n",
            "Epoch 36, CIFAR-10 Batch 5:  Cost :0.67771, Accuracy on Training 0.7500 -Validation Accuracy: 0.5852\n",
            "Epoch 37, CIFAR-10 Batch 1:  Cost :0.67336, Accuracy on Training 0.8000 -Validation Accuracy: 0.6128\n",
            "Epoch 37, CIFAR-10 Batch 2:  Cost :0.53086, Accuracy on Training 0.9250 -Validation Accuracy: 0.5934\n",
            "Epoch 37, CIFAR-10 Batch 3:  Cost :0.65433, Accuracy on Training 0.8250 -Validation Accuracy: 0.5806\n",
            "Epoch 37, CIFAR-10 Batch 4:  Cost :0.62490, Accuracy on Training 0.8250 -Validation Accuracy: 0.6076\n",
            "Epoch 37, CIFAR-10 Batch 5:  Cost :0.66885, Accuracy on Training 0.8000 -Validation Accuracy: 0.6008\n",
            "Epoch 38, CIFAR-10 Batch 1:  Cost :0.66080, Accuracy on Training 0.8000 -Validation Accuracy: 0.6192\n",
            "Epoch 38, CIFAR-10 Batch 2:  Cost :0.60089, Accuracy on Training 0.8750 -Validation Accuracy: 0.5960\n",
            "Epoch 38, CIFAR-10 Batch 3:  Cost :0.61763, Accuracy on Training 0.8250 -Validation Accuracy: 0.5718\n",
            "Epoch 38, CIFAR-10 Batch 4:  Cost :0.61660, Accuracy on Training 0.8250 -Validation Accuracy: 0.6170\n",
            "Epoch 38, CIFAR-10 Batch 5:  Cost :0.65562, Accuracy on Training 0.7750 -Validation Accuracy: 0.6030\n",
            "Epoch 39, CIFAR-10 Batch 1:  Cost :0.64858, Accuracy on Training 0.8000 -Validation Accuracy: 0.6074\n",
            "Epoch 39, CIFAR-10 Batch 2:  Cost :0.55944, Accuracy on Training 0.9000 -Validation Accuracy: 0.5958\n",
            "Epoch 39, CIFAR-10 Batch 3:  Cost :0.57649, Accuracy on Training 0.8500 -Validation Accuracy: 0.5986\n",
            "Epoch 39, CIFAR-10 Batch 4:  Cost :0.65934, Accuracy on Training 0.7750 -Validation Accuracy: 0.6054\n",
            "Epoch 39, CIFAR-10 Batch 5:  Cost :0.63629, Accuracy on Training 0.8250 -Validation Accuracy: 0.6012\n",
            "Epoch 40, CIFAR-10 Batch 1:  Cost :0.66283, Accuracy on Training 0.8000 -Validation Accuracy: 0.6204\n",
            "Epoch 40, CIFAR-10 Batch 2:  Cost :0.54615, Accuracy on Training 0.8500 -Validation Accuracy: 0.5822\n",
            "Epoch 40, CIFAR-10 Batch 3:  Cost :0.56201, Accuracy on Training 0.8750 -Validation Accuracy: 0.6064\n",
            "Epoch 40, CIFAR-10 Batch 4:  Cost :0.56558, Accuracy on Training 0.8500 -Validation Accuracy: 0.5948\n",
            "Epoch 40, CIFAR-10 Batch 5:  Cost :0.61582, Accuracy on Training 0.8500 -Validation Accuracy: 0.6088\n",
            "Epoch 41, CIFAR-10 Batch 1:  Cost :0.69519, Accuracy on Training 0.7250 -Validation Accuracy: 0.6132\n",
            "Epoch 41, CIFAR-10 Batch 2:  Cost :0.55187, Accuracy on Training 0.8750 -Validation Accuracy: 0.5786\n",
            "Epoch 41, CIFAR-10 Batch 3:  Cost :0.57762, Accuracy on Training 0.8250 -Validation Accuracy: 0.5896\n",
            "Epoch 41, CIFAR-10 Batch 4:  Cost :0.57843, Accuracy on Training 0.8500 -Validation Accuracy: 0.6062\n",
            "Epoch 41, CIFAR-10 Batch 5:  Cost :0.59320, Accuracy on Training 0.8250 -Validation Accuracy: 0.6196\n",
            "Epoch 42, CIFAR-10 Batch 1:  Cost :0.64780, Accuracy on Training 0.7750 -Validation Accuracy: 0.6228\n",
            "Epoch 42, CIFAR-10 Batch 2:  Cost :0.50693, Accuracy on Training 0.8750 -Validation Accuracy: 0.5814\n",
            "Epoch 42, CIFAR-10 Batch 3:  Cost :0.55829, Accuracy on Training 0.8500 -Validation Accuracy: 0.6044\n",
            "Epoch 42, CIFAR-10 Batch 4:  Cost :0.53615, Accuracy on Training 0.9000 -Validation Accuracy: 0.6126\n",
            "Epoch 42, CIFAR-10 Batch 5:  Cost :0.60055, Accuracy on Training 0.8500 -Validation Accuracy: 0.6092\n",
            "Epoch 43, CIFAR-10 Batch 1:  Cost :0.61419, Accuracy on Training 0.8000 -Validation Accuracy: 0.6156\n",
            "Epoch 43, CIFAR-10 Batch 2:  Cost :0.54829, Accuracy on Training 0.8750 -Validation Accuracy: 0.5774\n",
            "Epoch 43, CIFAR-10 Batch 3:  Cost :0.54541, Accuracy on Training 0.8500 -Validation Accuracy: 0.6144\n",
            "Epoch 43, CIFAR-10 Batch 4:  Cost :0.55474, Accuracy on Training 0.8500 -Validation Accuracy: 0.6120\n",
            "Epoch 43, CIFAR-10 Batch 5:  Cost :0.58308, Accuracy on Training 0.8000 -Validation Accuracy: 0.6070\n",
            "Epoch 44, CIFAR-10 Batch 1:  Cost :0.61774, Accuracy on Training 0.8500 -Validation Accuracy: 0.6262\n",
            "Epoch 44, CIFAR-10 Batch 2:  Cost :0.53390, Accuracy on Training 0.8750 -Validation Accuracy: 0.5780\n",
            "Epoch 44, CIFAR-10 Batch 3:  Cost :0.50496, Accuracy on Training 0.8500 -Validation Accuracy: 0.6198\n",
            "Epoch 44, CIFAR-10 Batch 4:  Cost :0.52925, Accuracy on Training 0.8500 -Validation Accuracy: 0.6138\n",
            "Epoch 44, CIFAR-10 Batch 5:  Cost :0.53537, Accuracy on Training 0.8250 -Validation Accuracy: 0.6156\n",
            "Epoch 45, CIFAR-10 Batch 1:  Cost :0.60744, Accuracy on Training 0.8500 -Validation Accuracy: 0.6232\n",
            "Epoch 45, CIFAR-10 Batch 2:  Cost :0.46972, Accuracy on Training 0.8750 -Validation Accuracy: 0.6014\n",
            "Epoch 45, CIFAR-10 Batch 3:  Cost :0.50876, Accuracy on Training 0.8750 -Validation Accuracy: 0.6040\n",
            "Epoch 45, CIFAR-10 Batch 4:  Cost :0.53065, Accuracy on Training 0.8750 -Validation Accuracy: 0.6182\n",
            "Epoch 45, CIFAR-10 Batch 5:  Cost :0.54472, Accuracy on Training 0.8000 -Validation Accuracy: 0.6206\n",
            "Epoch 46, CIFAR-10 Batch 1:  Cost :0.59584, Accuracy on Training 0.8250 -Validation Accuracy: 0.6254\n",
            "Epoch 46, CIFAR-10 Batch 2:  Cost :0.48883, Accuracy on Training 0.8750 -Validation Accuracy: 0.5976\n",
            "Epoch 46, CIFAR-10 Batch 3:  Cost :0.51005, Accuracy on Training 0.8750 -Validation Accuracy: 0.6228\n",
            "Epoch 46, CIFAR-10 Batch 4:  Cost :0.50879, Accuracy on Training 0.8750 -Validation Accuracy: 0.6210\n",
            "Epoch 46, CIFAR-10 Batch 5:  Cost :0.56500, Accuracy on Training 0.8250 -Validation Accuracy: 0.6176\n",
            "Epoch 47, CIFAR-10 Batch 1:  Cost :0.56260, Accuracy on Training 0.8000 -Validation Accuracy: 0.6302\n",
            "Epoch 47, CIFAR-10 Batch 2:  Cost :0.48580, Accuracy on Training 0.9000 -Validation Accuracy: 0.5788\n",
            "Epoch 47, CIFAR-10 Batch 3:  Cost :0.50326, Accuracy on Training 0.9000 -Validation Accuracy: 0.6082\n",
            "Epoch 47, CIFAR-10 Batch 4:  Cost :0.59154, Accuracy on Training 0.7750 -Validation Accuracy: 0.5770\n",
            "Epoch 47, CIFAR-10 Batch 5:  Cost :0.61928, Accuracy on Training 0.8000 -Validation Accuracy: 0.6096\n",
            "Epoch 48, CIFAR-10 Batch 1:  Cost :0.57348, Accuracy on Training 0.8000 -Validation Accuracy: 0.6308\n",
            "Epoch 48, CIFAR-10 Batch 2:  Cost :0.46829, Accuracy on Training 0.8500 -Validation Accuracy: 0.5904\n",
            "Epoch 48, CIFAR-10 Batch 3:  Cost :0.43077, Accuracy on Training 0.9000 -Validation Accuracy: 0.6184\n",
            "Epoch 48, CIFAR-10 Batch 4:  Cost :0.50009, Accuracy on Training 0.9000 -Validation Accuracy: 0.6278\n",
            "Epoch 48, CIFAR-10 Batch 5:  Cost :0.54798, Accuracy on Training 0.8500 -Validation Accuracy: 0.6192\n",
            "Epoch 49, CIFAR-10 Batch 1:  Cost :0.58064, Accuracy on Training 0.8500 -Validation Accuracy: 0.6304\n",
            "Epoch 49, CIFAR-10 Batch 2:  Cost :0.45632, Accuracy on Training 0.8500 -Validation Accuracy: 0.5962\n",
            "Epoch 49, CIFAR-10 Batch 3:  Cost :0.45912, Accuracy on Training 0.9000 -Validation Accuracy: 0.6266\n",
            "Epoch 49, CIFAR-10 Batch 4:  Cost :0.52212, Accuracy on Training 0.8750 -Validation Accuracy: 0.5896\n",
            "Epoch 49, CIFAR-10 Batch 5:  Cost :0.55961, Accuracy on Training 0.8250 -Validation Accuracy: 0.6244\n",
            "Epoch 50, CIFAR-10 Batch 1:  Cost :0.61203, Accuracy on Training 0.7750 -Validation Accuracy: 0.6198\n",
            "Epoch 50, CIFAR-10 Batch 2:  Cost :0.44662, Accuracy on Training 0.8750 -Validation Accuracy: 0.6208\n",
            "Epoch 50, CIFAR-10 Batch 3:  Cost :0.44710, Accuracy on Training 0.9000 -Validation Accuracy: 0.6154\n",
            "Epoch 50, CIFAR-10 Batch 4:  Cost :0.50907, Accuracy on Training 0.8500 -Validation Accuracy: 0.6038\n",
            "Epoch 50, CIFAR-10 Batch 5:  Cost :0.52500, Accuracy on Training 0.8250 -Validation Accuracy: 0.6352\n"
          ],
          "name": "stdout"
        }
      ]
    },
    {
      "cell_type": "markdown",
      "metadata": {
        "colab_type": "text",
        "id": "jx9yLpCGffgj"
      },
      "source": [
        "\n",
        "The model has been saved to disk.\n",
        "## Test Model\n",
        "Now needs to test the model against the test dataset.  This will be your final accuracy. The accuracy is greater than 50%. If the accuracy is not greater than 50%, the model architecture and parameters should be tweaked."
      ]
    },
    {
      "cell_type": "code",
      "metadata": {
        "colab_type": "code",
        "id": "WhYNuGaNffg1",
        "outputId": "1890c252-348c-4b03-b050-87df79f46ef0",
        "colab": {
          "base_uri": "https://localhost:8080/",
          "height": 530
        }
      },
      "source": [
        "%matplotlib inline\n",
        "%config InlineBackend.figure_format = 'retina'\n",
        "\n",
        "import tensorflow as tf\n",
        "import pickle\n",
        "import random\n",
        "\n",
        "# Set batch size if not already set\n",
        "try:\n",
        "    if batch_size:\n",
        "        pass\n",
        "except NameError:\n",
        "    batch_size = 64\n",
        "\n",
        "save_model_path = './image_classification'\n",
        "n_samples = 4\n",
        "top_n_predictions = 3\n",
        "\n",
        "def test_model():\n",
        "    \"\"\"\n",
        "    Test the saved model against the test dataset\n",
        "    \"\"\"\n",
        "\n",
        "    test_features, test_labels = pickle.load(open('preprocess_training.p', mode='rb'))\n",
        "    loaded_graph = tf.Graph()\n",
        "\n",
        "    with tf.Session(graph=loaded_graph) as sess:\n",
        "        # Load model\n",
        "        loader = tf.train.import_meta_graph(save_model_path + '.meta')\n",
        "        loader.restore(sess, save_model_path)\n",
        "\n",
        "        # Get Tensors from loaded model\n",
        "        loaded_x = loaded_graph.get_tensor_by_name('x:0')\n",
        "        loaded_y = loaded_graph.get_tensor_by_name('y:0')\n",
        "        loaded_keep_prob = loaded_graph.get_tensor_by_name('keep_prob:0')\n",
        "        loaded_logits = loaded_graph.get_tensor_by_name('logits:0')\n",
        "        loaded_acc = loaded_graph.get_tensor_by_name('accuracy:0')\n",
        "        \n",
        "        # Get accuracy in batches for memory limitations\n",
        "        test_batch_acc_total = 0\n",
        "        test_batch_count = 0\n",
        "        \n",
        "        for train_feature_batch, train_label_batch in batch_features_labels(test_features, test_labels, batch_size):\n",
        "            test_batch_acc_total += sess.run(\n",
        "                loaded_acc,\n",
        "                feed_dict={loaded_x: train_feature_batch, loaded_y: train_label_batch, loaded_keep_prob: 1.0})\n",
        "            test_batch_count += 1\n",
        "\n",
        "        print('Testing Accuracy: {}\\n'.format(test_batch_acc_total/test_batch_count))\n",
        "\n",
        "        # Print Random Samples\n",
        "        random_test_features, random_test_labels = tuple(zip(*random.sample(list(zip(test_features, test_labels)), n_samples)))\n",
        "        random_test_predictions = sess.run(\n",
        "            tf.nn.top_k(tf.nn.softmax(loaded_logits), top_n_predictions),\n",
        "            feed_dict={loaded_x: random_test_features, loaded_y: random_test_labels, loaded_keep_prob: 1.0})\n",
        "        display_image_predictions(random_test_features, random_test_labels, random_test_predictions)\n",
        "\n",
        "\n",
        "test_model()"
      ],
      "execution_count": 20,
      "outputs": [
        {
          "output_type": "stream",
          "text": [
            "WARNING:tensorflow:From /usr/local/lib/python3.6/dist-packages/tensorflow/python/training/saver.py:1266: checkpoint_exists (from tensorflow.python.training.checkpoint_management) is deprecated and will be removed in a future version.\n",
            "Instructions for updating:\n",
            "Use standard file APIs to check for files with this prefix.\n",
            "INFO:tensorflow:Restoring parameters from ./image_classification\n",
            "Testing Accuracy: 0.6458984375\n",
            "\n"
          ],
          "name": "stdout"
        },
        {
          "output_type": "stream",
          "text": [
            "Clipping input data to the valid range for imshow with RGB data ([0..1] for floats or [0..255] for integers).\n",
            "Clipping input data to the valid range for imshow with RGB data ([0..1] for floats or [0..255] for integers).\n",
            "Clipping input data to the valid range for imshow with RGB data ([0..1] for floats or [0..255] for integers).\n",
            "Clipping input data to the valid range for imshow with RGB data ([0..1] for floats or [0..255] for integers).\n"
          ],
          "name": "stderr"
        },
        {
          "output_type": "display_data",
          "data": {
            "image/png": "[encoded data removed]",
            "text/plain": [
              "<Figure size 432x288 with 8 Axes>"
            ]
          },
          "metadata": {
            "tags": [],
            "image/png": {
              "width": 355,
              "height": 319
            }
          }
        }
      ]
    },
    {
      "cell_type": "markdown",
      "metadata": {
        "id": "2eU1qedtbCsc",
        "colab_type": "text"
      },
      "source": [
        "By applying simple CNN model on a CIFAR-10 dataset having more than 50000 images, the accuracy is more than 60% which is quite good."
      ]
    },
    {
      "cell_type": "code",
      "metadata": {
        "colab_type": "code",
        "id": "YFasULIYffhE",
        "colab": {}
      },
      "source": [
        ""
      ],
      "execution_count": 0,
      "outputs": []
    }
  ]
}